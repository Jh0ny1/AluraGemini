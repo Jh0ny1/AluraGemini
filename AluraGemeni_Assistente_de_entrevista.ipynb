{
  "nbformat": 4,
  "nbformat_minor": 0,
  "metadata": {
    "colab": {
      "provenance": [],
      "authorship_tag": "ABX9TyMiFTj5yOh81lbtZYFcfEgb",
      "include_colab_link": true
    },
    "kernelspec": {
      "name": "python3",
      "display_name": "Python 3"
    },
    "language_info": {
      "name": "python"
    }
  },
  "cells": [
    {
      "cell_type": "markdown",
      "metadata": {
        "id": "view-in-github",
        "colab_type": "text"
      },
      "source": [
        "<a href=\"https://colab.research.google.com/github/Jh0ny1/AluraGemini/blob/main/AluraGemeni_Assistente_de_entrevista.ipynb\" target=\"_parent\"><img src=\"https://colab.research.google.com/assets/colab-badge.svg\" alt=\"Open In Colab\"/></a>"
      ]
    },
    {
      "cell_type": "code",
      "execution_count": 2,
      "metadata": {
        "id": "5WPkaFFDU7Hc"
      },
      "outputs": [],
      "source": [
        "#Instalando o SDK do Google\n",
        "!pip install -q -U google-generativeai"
      ]
    },
    {
      "cell_type": "code",
      "source": [
        "#Configurações iniciais\n",
        "import google.generativeai as genai\n",
        "from google.colab import userdata\n",
        "api_key = userdata.get('paodebatata')\n",
        "genai.configure(api_key=api_key)"
      ],
      "metadata": {
        "id": "cXpISliZVBj2"
      },
      "execution_count": 22,
      "outputs": []
    },
    {
      "cell_type": "code",
      "source": [
        "#Configurando Criatividade\n",
        "generation_config = {\n",
        "  \"candidate_count\": 1,\n",
        "  \"temperature\": 1,\n",
        "}"
      ],
      "metadata": {
        "id": "XYBjv-v2VEK9"
      },
      "execution_count": 4,
      "outputs": []
    },
    {
      "cell_type": "code",
      "source": [
        "#Setando Segurança\n",
        "safety_settings={\n",
        "    'HATE': 'BLOCK_NONE',\n",
        "    'HARASSMENT': 'BLOCK_NONE',\n",
        "    'SEXUAL' : 'BLOCK_NONE',\n",
        "    'DANGEROUS' : 'BLOCK_NONE'\n",
        "    }"
      ],
      "metadata": {
        "id": "7DB6Y5uHVGqd"
      },
      "execution_count": 5,
      "outputs": []
    },
    {
      "cell_type": "code",
      "source": [
        "#Definindo modelo geni\n",
        "model = genai.GenerativeModel(model_name='models/gemini-1.0-pro-latest',\n",
        "                                  generation_config=generation_config,\n",
        "                                  safety_settings=safety_settings,)"
      ],
      "metadata": {
        "id": "7MSbPu45VM0F"
      },
      "execution_count": 25,
      "outputs": []
    },
    {
      "cell_type": "code",
      "source": [
        "#Local do chat\n",
        "chat = model.start_chat(history=[])\n",
        "\n",
        "prompt = input('Olá, serei seu entrevistador por agora, por favor insira os requisitos da vaga para começarmos a entrevista:  ')\n",
        "\n",
        "while prompt.lower() != \"ok\":\n",
        "  response = chat.send_message(f\"Estou me candidatando para uma vaga de emprego. Essa é a descrição:\\n\\n{prompt}\\n\\nMe faça 5 perguntas técnicas para eu analisar se estou apto para a vaga.\")\n",
        "  print(\"Resposta:\", response.text, '\\n\\n')\n",
        "  prompt = input('Mais perguntas? ')\n",
        "  response = chat.send_message(\"certo e agora quero que voce\")\n",
        "\n"
      ],
      "metadata": {
        "id": "nu41ct82VSdl"
      },
      "execution_count": null,
      "outputs": []
    },
    {
      "cell_type": "code",
      "source": [
        "#Melhorando a visualização\n",
        "#Código disponível em https://ai.google.dev/tutorials/python_quickstart#import_packages\n",
        "import textwrap\n",
        "from IPython.display import display\n",
        "from IPython.display import Markdown\n",
        "\n",
        "def to_markdown(text):\n",
        "  text = text.replace('•', '  *')\n",
        "  return Markdown(textwrap.indent(text, '> ', predicate=lambda _: True))\n",
        "\n",
        "#Imprimindo o histórico\n",
        "for message in chat.history:\n",
        "  display(to_markdown(f'**{message.role}**: {message.parts[0].text}'))\n",
        "  print('-------------------------------------------')"
      ],
      "metadata": {
        "id": "JdpCyyIfVskP"
      },
      "execution_count": null,
      "outputs": []
    }
  ]
}